{
 "cells": [
  {
   "cell_type": "markdown",
   "metadata": {
    "colab_type": "text",
    "id": "view-in-github"
   },
   "source": [
    "<a href=\"https://colab.research.google.com/github/henry3556108/codalab_contest/blob/main/our_model_with_early_stopping.ipynb\" target=\"_parent\"><img src=\"https://colab.research.google.com/assets/colab-badge.svg\" alt=\"Open In Colab\"/></a>"
   ]
  },
  {
   "cell_type": "code",
   "execution_count": 1,
   "metadata": {
    "colab": {
     "base_uri": "https://localhost:8080/"
    },
    "id": "FswonW2Vdo1l",
    "outputId": "bc81bb9c-ae7a-445f-840b-87a596d3984f"
   },
   "outputs": [
    {
     "name": "stdout",
     "output_type": "stream",
     "text": [
      "Requirement already satisfied: transformers in /Users/hongyicheng/miniconda3/envs/pytorch/lib/python3.10/site-packages (4.35.0)\n",
      "Requirement already satisfied: filelock in /Users/hongyicheng/miniconda3/envs/pytorch/lib/python3.10/site-packages (from transformers) (3.13.1)\n",
      "Requirement already satisfied: huggingface-hub<1.0,>=0.16.4 in /Users/hongyicheng/miniconda3/envs/pytorch/lib/python3.10/site-packages (from transformers) (0.19.4)\n",
      "Requirement already satisfied: numpy>=1.17 in /Users/hongyicheng/miniconda3/envs/pytorch/lib/python3.10/site-packages (from transformers) (1.25.2)\n",
      "Requirement already satisfied: packaging>=20.0 in /Users/hongyicheng/miniconda3/envs/pytorch/lib/python3.10/site-packages (from transformers) (23.2)\n",
      "Requirement already satisfied: pyyaml>=5.1 in /Users/hongyicheng/miniconda3/envs/pytorch/lib/python3.10/site-packages (from transformers) (6.0.1)\n",
      "Requirement already satisfied: regex!=2019.12.17 in /Users/hongyicheng/miniconda3/envs/pytorch/lib/python3.10/site-packages (from transformers) (2023.10.3)\n",
      "Requirement already satisfied: requests in /Users/hongyicheng/miniconda3/envs/pytorch/lib/python3.10/site-packages (from transformers) (2.31.0)\n",
      "Requirement already satisfied: tokenizers<0.15,>=0.14 in /Users/hongyicheng/miniconda3/envs/pytorch/lib/python3.10/site-packages (from transformers) (0.14.1)\n",
      "Requirement already satisfied: safetensors>=0.3.1 in /Users/hongyicheng/miniconda3/envs/pytorch/lib/python3.10/site-packages (from transformers) (0.4.0)\n",
      "Requirement already satisfied: tqdm>=4.27 in /Users/hongyicheng/miniconda3/envs/pytorch/lib/python3.10/site-packages (from transformers) (4.66.1)\n",
      "Requirement already satisfied: fsspec>=2023.5.0 in /Users/hongyicheng/miniconda3/envs/pytorch/lib/python3.10/site-packages (from huggingface-hub<1.0,>=0.16.4->transformers) (2023.10.0)\n",
      "Requirement already satisfied: typing-extensions>=3.7.4.3 in /Users/hongyicheng/miniconda3/envs/pytorch/lib/python3.10/site-packages (from huggingface-hub<1.0,>=0.16.4->transformers) (4.8.0)\n",
      "Collecting huggingface-hub<1.0,>=0.16.4 (from transformers)\n",
      "  Using cached huggingface_hub-0.17.3-py3-none-any.whl.metadata (13 kB)\n",
      "Requirement already satisfied: charset-normalizer<4,>=2 in /Users/hongyicheng/miniconda3/envs/pytorch/lib/python3.10/site-packages (from requests->transformers) (3.3.2)\n",
      "Requirement already satisfied: idna<4,>=2.5 in /Users/hongyicheng/miniconda3/envs/pytorch/lib/python3.10/site-packages (from requests->transformers) (3.4)\n",
      "Requirement already satisfied: urllib3<3,>=1.21.1 in /Users/hongyicheng/miniconda3/envs/pytorch/lib/python3.10/site-packages (from requests->transformers) (2.0.7)\n",
      "Requirement already satisfied: certifi>=2017.4.17 in /Users/hongyicheng/miniconda3/envs/pytorch/lib/python3.10/site-packages (from requests->transformers) (2023.7.22)\n",
      "Using cached huggingface_hub-0.17.3-py3-none-any.whl (295 kB)\n",
      "Installing collected packages: huggingface-hub\n",
      "  Attempting uninstall: huggingface-hub\n",
      "    Found existing installation: huggingface-hub 0.19.4\n",
      "    Uninstalling huggingface-hub-0.19.4:\n",
      "      Successfully uninstalled huggingface-hub-0.19.4\n",
      "\u001b[31mERROR: pip's dependency resolver does not currently take into account all the packages that are installed. This behaviour is the source of the following dependency conflicts.\n",
      "datasets 2.15.0 requires huggingface-hub>=0.18.0, but you have huggingface-hub 0.17.3 which is incompatible.\u001b[0m\u001b[31m\n",
      "\u001b[0mSuccessfully installed huggingface-hub-0.17.3\n",
      "Requirement already satisfied: datasets in /Users/hongyicheng/miniconda3/envs/pytorch/lib/python3.10/site-packages (2.15.0)\n",
      "Requirement already satisfied: numpy>=1.17 in /Users/hongyicheng/miniconda3/envs/pytorch/lib/python3.10/site-packages (from datasets) (1.25.2)\n",
      "Requirement already satisfied: pyarrow>=8.0.0 in /Users/hongyicheng/miniconda3/envs/pytorch/lib/python3.10/site-packages (from datasets) (14.0.1)\n",
      "Requirement already satisfied: pyarrow-hotfix in /Users/hongyicheng/miniconda3/envs/pytorch/lib/python3.10/site-packages (from datasets) (0.5)\n",
      "Requirement already satisfied: dill<0.3.8,>=0.3.0 in /Users/hongyicheng/miniconda3/envs/pytorch/lib/python3.10/site-packages (from datasets) (0.3.7)\n",
      "Requirement already satisfied: pandas in /Users/hongyicheng/miniconda3/envs/pytorch/lib/python3.10/site-packages (from datasets) (2.0.3)\n",
      "Requirement already satisfied: requests>=2.19.0 in /Users/hongyicheng/miniconda3/envs/pytorch/lib/python3.10/site-packages (from datasets) (2.31.0)\n",
      "Requirement already satisfied: tqdm>=4.62.1 in /Users/hongyicheng/miniconda3/envs/pytorch/lib/python3.10/site-packages (from datasets) (4.66.1)\n",
      "Requirement already satisfied: xxhash in /Users/hongyicheng/miniconda3/envs/pytorch/lib/python3.10/site-packages (from datasets) (3.4.1)\n",
      "Requirement already satisfied: multiprocess in /Users/hongyicheng/miniconda3/envs/pytorch/lib/python3.10/site-packages (from datasets) (0.70.15)\n",
      "Requirement already satisfied: fsspec<=2023.10.0,>=2023.1.0 in /Users/hongyicheng/miniconda3/envs/pytorch/lib/python3.10/site-packages (from fsspec[http]<=2023.10.0,>=2023.1.0->datasets) (2023.10.0)\n",
      "Requirement already satisfied: aiohttp in /Users/hongyicheng/miniconda3/envs/pytorch/lib/python3.10/site-packages (from datasets) (3.9.0)\n",
      "Collecting huggingface-hub>=0.18.0 (from datasets)\n",
      "  Using cached huggingface_hub-0.19.4-py3-none-any.whl.metadata (14 kB)\n",
      "Requirement already satisfied: packaging in /Users/hongyicheng/miniconda3/envs/pytorch/lib/python3.10/site-packages (from datasets) (23.2)\n",
      "Requirement already satisfied: pyyaml>=5.1 in /Users/hongyicheng/miniconda3/envs/pytorch/lib/python3.10/site-packages (from datasets) (6.0.1)\n",
      "Requirement already satisfied: attrs>=17.3.0 in /Users/hongyicheng/miniconda3/envs/pytorch/lib/python3.10/site-packages (from aiohttp->datasets) (23.1.0)\n",
      "Requirement already satisfied: multidict<7.0,>=4.5 in /Users/hongyicheng/miniconda3/envs/pytorch/lib/python3.10/site-packages (from aiohttp->datasets) (6.0.4)\n",
      "Requirement already satisfied: yarl<2.0,>=1.0 in /Users/hongyicheng/miniconda3/envs/pytorch/lib/python3.10/site-packages (from aiohttp->datasets) (1.9.3)\n",
      "Requirement already satisfied: frozenlist>=1.1.1 in /Users/hongyicheng/miniconda3/envs/pytorch/lib/python3.10/site-packages (from aiohttp->datasets) (1.4.0)\n",
      "Requirement already satisfied: aiosignal>=1.1.2 in /Users/hongyicheng/miniconda3/envs/pytorch/lib/python3.10/site-packages (from aiohttp->datasets) (1.3.1)\n",
      "Requirement already satisfied: async-timeout<5.0,>=4.0 in /Users/hongyicheng/miniconda3/envs/pytorch/lib/python3.10/site-packages (from aiohttp->datasets) (4.0.3)\n",
      "Requirement already satisfied: filelock in /Users/hongyicheng/miniconda3/envs/pytorch/lib/python3.10/site-packages (from huggingface-hub>=0.18.0->datasets) (3.13.1)\n",
      "Requirement already satisfied: typing-extensions>=3.7.4.3 in /Users/hongyicheng/miniconda3/envs/pytorch/lib/python3.10/site-packages (from huggingface-hub>=0.18.0->datasets) (4.8.0)\n",
      "Requirement already satisfied: charset-normalizer<4,>=2 in /Users/hongyicheng/miniconda3/envs/pytorch/lib/python3.10/site-packages (from requests>=2.19.0->datasets) (3.3.2)\n",
      "Requirement already satisfied: idna<4,>=2.5 in /Users/hongyicheng/miniconda3/envs/pytorch/lib/python3.10/site-packages (from requests>=2.19.0->datasets) (3.4)\n",
      "Requirement already satisfied: urllib3<3,>=1.21.1 in /Users/hongyicheng/miniconda3/envs/pytorch/lib/python3.10/site-packages (from requests>=2.19.0->datasets) (2.0.7)\n",
      "Requirement already satisfied: certifi>=2017.4.17 in /Users/hongyicheng/miniconda3/envs/pytorch/lib/python3.10/site-packages (from requests>=2.19.0->datasets) (2023.7.22)\n",
      "Requirement already satisfied: python-dateutil>=2.8.2 in /Users/hongyicheng/miniconda3/envs/pytorch/lib/python3.10/site-packages (from pandas->datasets) (2.8.2)\n",
      "Requirement already satisfied: pytz>=2020.1 in /Users/hongyicheng/miniconda3/envs/pytorch/lib/python3.10/site-packages (from pandas->datasets) (2023.3.post1)\n",
      "Requirement already satisfied: tzdata>=2022.1 in /Users/hongyicheng/miniconda3/envs/pytorch/lib/python3.10/site-packages (from pandas->datasets) (2023.3)\n",
      "Requirement already satisfied: six>=1.5 in /Users/hongyicheng/miniconda3/envs/pytorch/lib/python3.10/site-packages (from python-dateutil>=2.8.2->pandas->datasets) (1.16.0)\n",
      "Using cached huggingface_hub-0.19.4-py3-none-any.whl (311 kB)\n",
      "Installing collected packages: huggingface-hub\n",
      "  Attempting uninstall: huggingface-hub\n",
      "    Found existing installation: huggingface-hub 0.17.3\n",
      "    Uninstalling huggingface-hub-0.17.3:\n",
      "      Successfully uninstalled huggingface-hub-0.17.3\n",
      "\u001b[31mERROR: pip's dependency resolver does not currently take into account all the packages that are installed. This behaviour is the source of the following dependency conflicts.\n",
      "tokenizers 0.14.1 requires huggingface_hub<0.18,>=0.16.4, but you have huggingface-hub 0.19.4 which is incompatible.\u001b[0m\u001b[31m\n",
      "\u001b[0mSuccessfully installed huggingface-hub-0.19.4\n",
      "Requirement already satisfied: islab-opendeid in /Users/hongyicheng/miniconda3/envs/pytorch/lib/python3.10/site-packages (0.0.1.1)\n"
     ]
    }
   ],
   "source": [
    "!pip install transformers\n",
    "!pip install datasets\n",
    "!pip install islab-opendeid"
   ]
  },
  {
   "cell_type": "code",
   "execution_count": null,
   "metadata": {
    "colab": {
     "base_uri": "https://localhost:8080/"
    },
    "id": "fjLHrjZqdspS",
    "outputId": "2337ebf8-5d21-42d0-c517-6c8759133b7f"
   },
   "outputs": [
    {
     "name": "stdout",
     "output_type": "stream",
     "text": [
      "Mounted at /content/drive\n"
     ]
    }
   ],
   "source": [
    "from google.colab import drive\n",
    "drive.mount('/content/drive')"
   ]
  },
  {
   "cell_type": "markdown",
   "metadata": {
    "id": "-PCO35TUG1Dd"
   },
   "source": [
    "### import package"
   ]
  },
  {
   "cell_type": "code",
   "execution_count": 2,
   "metadata": {
    "id": "Zoh-ktTWx4az"
   },
   "outputs": [],
   "source": [
    "import os\n",
    "import numpy as np\n",
    "from tqdm import tqdm, trange\n",
    "from torch.optim import AdamW\n",
    "from torch.utils.data import DataLoader\n",
    "import torch\n",
    "import torch.optim as optim\n",
    "from transformers import AutoModelForCausalLM, AutoTokenizer, AutoConfig, get_linear_schedule_with_warmup\n",
    "import re\n",
    "import random\n",
    "import matplotlib.pyplot as plt\n",
    "from torch.nn import functional as F\n",
    "from torch.utils.data import Dataset"
   ]
  },
  {
   "cell_type": "code",
   "execution_count": 4,
   "metadata": {},
   "outputs": [],
   "source": [
    "# 所有參數定義\n",
    "BATCH_SIZE = 4\n",
    "epochs = 16\n",
    "\n",
    "# 專注於解決哪方面的問題 all or task1\n",
    "task_opt = \"all\"\n",
    "\n",
    "plm = \"EleutherAI/pythia-70m\"\n",
    "special_tokens_dict = {\"bos_token\": \"<|endoftext|>\", \"sep_token\": \"####\", \"eos_token\": \"<|END|>\"}\n",
    "\n",
    "annotation_data_path = \"First_Phase_Release(Correction)/answer.txt\"\n",
    "valid_annotation_data_path = \"Second_Phase_Dataset/answer.txt\"\n",
    "\n",
    "train_data_path = \"First_Phase_Release(Correction)/First_Phase_Text_Dataset\"\n",
    "valid_data_path = \"Second_Phase_Dataset/Second_Phase_Text_Dataset\"\n",
    "\n",
    "test_dataset = \"First_Phase_Release(Correction)/Validation_Release\"\n",
    "pred_dst = \"\"\n",
    "pred_file_name = \"answer.txt\"\n",
    "\n",
    "# 模型路徑\n",
    "model_dir = \"models\"\n",
    "\n",
    "# 是否要載入訓練好的模型\n",
    "load_model = True"
   ]
  },
  {
   "cell_type": "code",
   "execution_count": 3,
   "metadata": {
    "id": "sVI3Ma0jUGdq"
   },
   "outputs": [],
   "source": [
    "\n",
    "def process_annotation_file(lines, task_opt = \"all\"):\n",
    "    entity_dict = {}\n",
    "    for line in lines:\n",
    "        items = line.strip('\\n').split('\\t')\n",
    "        if task_opt == \"all\":\n",
    "            if len(items) == 5:\n",
    "                item_dict = {\n",
    "                    'phi' : items [1],\n",
    "                    'st_idx' :int (items[2]),\n",
    "                    'ed_idx' : int(items[3]),\n",
    "                    'entity' : items [4],\n",
    "                }\n",
    "            elif len(items) == 6:\n",
    "                item_dict = {\n",
    "                'phi' : items[1],\n",
    "                'st_idx' : int(items[2]),\n",
    "                'ed_idx' :int(items[3]),\n",
    "                'entity': items [4],\n",
    "                'normalize_time' : items[5],}\n",
    "        elif task_opt == \"task1\":\n",
    "            item_dict = {\n",
    "                'phi' : items [1],\n",
    "                'st_idx' :int (items[2]),\n",
    "                'ed_idx' : int(items[3]),\n",
    "                'entity' : items [4],\n",
    "            }\n",
    "        elif task_opt == \"task2\" and len(items) == 6:\n",
    "            item_dict = {\n",
    "                'phi' : items[1],\n",
    "                'st_idx' : int(items[2]),\n",
    "                'ed_idx' :int(items[3]),\n",
    "                'entity': items [4],\n",
    "                'normalize_time' : items[5],}\n",
    "        else:\n",
    "            # pass 掉這不合規的資料，包括如果針對 task2 卻不是時間資訊的\n",
    "            continue\n",
    "        if items[0] not in entity_dict:\n",
    "            entity_dict[items[0]] = [item_dict]\n",
    "        else:\n",
    "            entity_dict[items[0]].append(item_dict)\n",
    "    return entity_dict\n",
    "\n",
    "\n",
    "def generate_annotated_medical_report(anno_file_path, task_opt):\n",
    "    '''\n",
    "    有可能是關於生成 annotation data 的前置作業\n",
    "    task_opt: \"task1\" | \"all\" 如果放入 \"task1\" 只會生出 task1 的訓練資料 不會有時間正規化\n",
    "    '''\n",
    "    with open(anno_file_path, \"r\", encoding='utf-8-sig') as f:\n",
    "        anno_lines = f.readlines()\n",
    "        annos_dict = process_annotation_file(anno_lines, task_opt)\n",
    "        return annos_dict\n",
    "\n",
    "def process_medical_report(txt_name, medical_report_folder, annos_dict, special_tokens_dict):\n",
    "    '''\n",
    "    生成 training data\n",
    "    '''\n",
    "    file_name = txt_name + '.txt'\n",
    "    sents = open(os.path.join(medical_report_folder, file_name), \"r\").readlines()\n",
    "    article = \"\".join(sents)\n",
    "    bounary, item_idx, temp_seq, seq_pairs = 0, 0, \"\", []\n",
    "    for w_idx, word in enumerate(article):\n",
    "        if w_idx == annos_dict[txt_name][item_idx][\"st_idx\"]:\n",
    "            phi_key = annos_dict[txt_name][item_idx]['phi']\n",
    "            phi_value = annos_dict[txt_name][item_idx]['entity']\n",
    "            if \"normalize_time\" in annos_dict[txt_name][item_idx]:\n",
    "                temp_seq += f\"{phi_key}: {phi_value}=>{annos_dict[txt_name][item_idx]['normalize_time']}\\n\"\n",
    "            else:\n",
    "                temp_seq += f\"{phi_key}:{phi_value}\\n\"\n",
    "            if item_idx == len(annos_dict[txt_name]) - 1:\n",
    "                continue\n",
    "            item_idx += 1\n",
    "        if word == \"\\n\":\n",
    "            new_line_idx = w_idx + 1\n",
    "            if temp_seq == \"\":\n",
    "                temp_seq = \"PHI:Null\"\n",
    "            seq_pair = special_tokens_dict['bos_token'] + article[bounary: new_line_idx] + special_tokens_dict['sep_token'] + temp_seq + special_tokens_dict['eos_token']\n",
    "            bounary = new_line_idx\n",
    "            seq_pairs.append(seq_pair)\n",
    "            temp_seq = \"\"\n",
    "    return seq_pairs\n",
    "\n",
    "class GPTDataset(Dataset):\n",
    "    def __init__(self, seq_pairs, tokenizer, special_tokens_dict, pad_idx):\n",
    "        self.seq_pairs = seq_pairs\n",
    "        self.tokenizer = tokenizer\n",
    "        self.special_tokens_dict = special_tokens_dict\n",
    "        self.pad_idx = pad_idx\n",
    "\n",
    "    def __len__(self):\n",
    "        return len(self.seq_pairs)\n",
    "\n",
    "    def __getitem__(self, index):\n",
    "        return self.seq_pairs[index]\n",
    "\n",
    "    def collate_batch(self, datasets):\n",
    "        tokens_list, labels_list, attention_mask_list = [], [], []\n",
    "\n",
    "        for dataset in datasets:\n",
    "            encoded_seq = self.tokenizer(dataset)  # 假设 tokenizer 是一个合法的方法\n",
    "            indexed_tks = encoded_seq[\"input_ids\"]\n",
    "            attention_mask = encoded_seq[\"attention_mask\"]\n",
    "\n",
    "            tokens_list.append(torch.tensor(indexed_tks))\n",
    "            labels_list.append(torch.tensor(indexed_tks))\n",
    "            attention_mask_list.append(torch.tensor(attention_mask))\n",
    "\n",
    "        return self.pad_sequence(tokens_list, labels_list, attention_mask_list)  # 请注意，这里需要补充 pad_sequence 方法的定义\n",
    "\n",
    "    def pad_sequence(self, non_pad_token, non_pad_label, non_pad_attn):\n",
    "        max_size = max([len(ele) for ele in non_pad_token])  # 找出该批次数据中的最长序列的长度\n",
    "        pad_batch1 = torch.stack([torch.cat([t, torch.LongTensor([self.pad_idx] * (max_size - len(t)))]) for t in non_pad_token])\n",
    "        pad_batch2 = torch.stack([torch.cat([t, torch.LongTensor([self.pad_idx] * (max_size - len(t)))]) for t in non_pad_label])\n",
    "        pad_batch3 = torch.stack([torch.cat([t, torch.LongTensor([self.pad_idx] * (max_size - len(t)))]) for t in non_pad_attn])\n",
    "        return pad_batch1, pad_batch2, pad_batch3\n",
    "\n",
    "def sample_text(model, tokenizer, text, n_words=100):\n",
    "    model.eval()\n",
    "    text = tokenizer.encode(text)\n",
    "    # inputs, past_key_values = torch.tensor([text]).to(device), None\n",
    "    inputs, past_key_values = torch.tensor([text]), None\n",
    "    generated_text = []\n",
    "\n",
    "    with torch.no_grad():\n",
    "        for _ in range(n_words):\n",
    "            output = model(inputs, past_key_values=past_key_values)\n",
    "            logits = output.logits\n",
    "            past_key_values = output.past_key_values\n",
    "            log_probs = F.softmax(logits[:, -1], dim=-1)\n",
    "            inputs = torch.multinomial(log_probs, 1)\n",
    "            generated_text.append(inputs.item())\n",
    "\n",
    "            if tokenizer.decode(inputs.item()) == \"<|END|>\":  # 定义 eos 作为终止标记\n",
    "                break\n",
    "\n",
    "    return tokenizer.decode(generated_text)\n"
   ]
  },
  {
   "cell_type": "code",
   "execution_count": null,
   "metadata": {
    "colab": {
     "base_uri": "https://localhost:8080/",
     "height": 113,
     "referenced_widgets": [
      "e231a30e3fb54f6e9137dfa1410904ed",
      "2dfff9fefd2a4935a4be53a26a53e7a1",
      "c331e06a5a64479fb8e18f060dea175f",
      "a618044a82f04915af4cd583c93c3922",
      "00905df897f248b9810a431e267d6142",
      "d68c5fa0662b4c64b6d4301ea0dab75f",
      "8f2931967b8c4fd29b22219924bac295",
      "9b06a2322ab342e0895c29f45f3a4b2c",
      "9f7c460afcc848a090b3b73833315e13",
      "90c1cb33a59d4437be2b2dc704d17eb1",
      "ac5cd7e853854b1e9fffed2f55bb6f17",
      "74d9f481b4e74c649e3c5e2a54e71af6",
      "12ee7081018442cbaaa00536048aecb1",
      "687fd2fb5e2d45b6a44f23758200f0d2",
      "09fdabdd80ee48a9bfd7c3c2b68991cd",
      "29b4254e7f8b416595774dc540cc2a88",
      "ab4338f4d7074a61857fb5395cd846a4",
      "d36d7aef812e46bb9112685c9d9fdf61",
      "99aa784e53114968a5fdb81f88d285c7",
      "e6cbb2aac0104af6b81bc2e456b72455",
      "9f2e64c81f6647b08492ed19e142cf03",
      "24197d32d5724de48a47a45c8b066a13",
      "2887390e0e6b49ed9fd3626d6e66a24a",
      "b99d21972f734d4293197119587f23a1",
      "dc01a32937df420e957a76e1d5a6bfe1",
      "25a15f2ac3fe4e63a0f3c6e86a38de90",
      "1cb1be73bc804448b8ae5d322edabfc7",
      "e0c0a6c1d3ec4125a429aed66a065e3c",
      "a3302b28e6a840e7b4833f1d31751408",
      "b440b68d1ff540e0bfcc5c5835e00c0b",
      "1b26d849d22343b8b1a4bb30b76b5b68",
      "36028772d9dc4b648242ec0ef02c019e",
      "d855a1f47989453b80f30a3dcf88bef0"
     ]
    },
    "id": "C0Q26rhnjCTv",
    "outputId": "66670891-3848-4e4b-9c51-b37b71a43271"
   },
   "outputs": [
    {
     "data": {
      "application/vnd.jupyter.widget-view+json": {
       "model_id": "e231a30e3fb54f6e9137dfa1410904ed",
       "version_major": 2,
       "version_minor": 0
      },
      "text/plain": [
       "tokenizer_config.json:   0%|          | 0.00/396 [00:00<?, ?B/s]"
      ]
     },
     "metadata": {},
     "output_type": "display_data"
    },
    {
     "data": {
      "application/vnd.jupyter.widget-view+json": {
       "model_id": "74d9f481b4e74c649e3c5e2a54e71af6",
       "version_major": 2,
       "version_minor": 0
      },
      "text/plain": [
       "tokenizer.json:   0%|          | 0.00/2.11M [00:00<?, ?B/s]"
      ]
     },
     "metadata": {},
     "output_type": "display_data"
    },
    {
     "data": {
      "application/vnd.jupyter.widget-view+json": {
       "model_id": "2887390e0e6b49ed9fd3626d6e66a24a",
       "version_major": 2,
       "version_minor": 0
      },
      "text/plain": [
       "special_tokens_map.json:   0%|          | 0.00/99.0 [00:00<?, ?B/s]"
      ]
     },
     "metadata": {},
     "output_type": "display_data"
    }
   ],
   "source": [
    "\n",
    "# Tokenizer\n",
    "tokenizer = AutoTokenizer.from_pretrained(plm)\n",
    "tokenizer.add_special_tokens(special_tokens_dict)\n",
    "\n",
    "annos_dict = generate_annotated_medical_report(annotation_data_path, task_opt) # 後面這邊的 task1 是為了只解決 task1 的問題\n",
    "valid_annos_dict = generate_annotated_medical_report(valid_annotation_data_path, task_opt)\n",
    "\n",
    "# 目前還等待理解這一段\n",
    "PAD_IDX = tokenizer.convert_tokens_to_ids(tokenizer.pad_token)\n",
    "\n",
    "seq_pairs = []\n",
    "valid_seq_pairs = []\n",
    "\n",
    "# 讀取該資料夾下的所有資料，往前迭代並且傳至 data_preprocess 去生成訓練資料\n",
    "file_names = os.listdir(train_data_path)\n",
    "for file_name in file_names:\n",
    "    file_name = file_name.replace(\".txt\", \"\")\n",
    "    seq_pairs.extend(process_medical_report(file_name, train_data_path, annos_dict, special_tokens_dict))\n",
    "\n",
    "file_names = os.listdir(valid_data_path)\n",
    "for file_name in file_names:\n",
    "    file_name = file_name.replace(\".txt\", \"\")\n",
    "    valid_seq_pairs.extend(process_medical_report(file_name, valid_data_path, valid_annos_dict, special_tokens_dict))\n",
    "\n",
    "\n",
    "tr_dataset = GPTDataset(seq_pairs, tokenizer, special_tokens_dict, 1)\n",
    "valid_dataset = GPTDataset(valid_seq_pairs, tokenizer, special_tokens_dict, 1)\n",
    "\n",
    "# 創建 DataLoader\n",
    "bucket_train_dataloader = DataLoader(tr_dataset, batch_size=BATCH_SIZE, collate_fn=tr_dataset.collate_batch)\n",
    "bucket_valid_dataloader = DataLoader(valid_dataset, batch_size=BATCH_SIZE, collate_fn=tr_dataset.collate_batch)"
   ]
  },
  {
   "cell_type": "code",
   "execution_count": null,
   "metadata": {
    "colab": {
     "base_uri": "https://localhost:8080/",
     "height": 99,
     "referenced_widgets": [
      "e754dfd654c34801be8ca409e168bfa7",
      "ffaa23bda79548b8bec864626ab64e9c",
      "880e3091872c4866929938b4a25be1eb",
      "2cd3d46b59c84532b6cc4e0496dee7d2",
      "be60c76121114f39ae55a47b92bd4ba7",
      "c9a20ffdb3c8418db5caf5f05a931a77",
      "94992f40b5c7416e970697ad62d69eed",
      "5748a1838a0a4668b4d9ad9eab836401",
      "50cb5a47e8d24744ad71a8e70ec21b5d",
      "5c79e04b37f44778ac8391837df0b983",
      "482171c2fb5d4732ac0eae87a0afcc82",
      "399889b2dfe64e2a940c10c8fc3741b3",
      "606b224bc1574765b5a376e56dcc911e",
      "6dfaac3a2a154b4e8e4517babe9d2a78",
      "8fb927efcd474ad184606eaae563a3f4",
      "168737fbfd8f4ccf94eb8d791ae81f0c",
      "c364ba32840e4d789c72defef28be473",
      "ad591b8110844ff6bb195454a47debd4",
      "ef4e100d10e94457bf8d7c8432165e62",
      "8bb860df179e40afae33f3fd67e4c5c8",
      "2fdfe54c168a4d26ae12e19876f814bf",
      "536ce914343c449c99171f103d93d109"
     ]
    },
    "id": "8bcWBFq5khi_",
    "outputId": "1553d750-2619-434b-a17f-7ec245b82a32"
   },
   "outputs": [
    {
     "data": {
      "application/vnd.jupyter.widget-view+json": {
       "model_id": "e754dfd654c34801be8ca409e168bfa7",
       "version_major": 2,
       "version_minor": 0
      },
      "text/plain": [
       "config.json:   0%|          | 0.00/567 [00:00<?, ?B/s]"
      ]
     },
     "metadata": {},
     "output_type": "display_data"
    },
    {
     "data": {
      "application/vnd.jupyter.widget-view+json": {
       "model_id": "399889b2dfe64e2a940c10c8fc3741b3",
       "version_major": 2,
       "version_minor": 0
      },
      "text/plain": [
       "model.safetensors:   0%|          | 0.00/166M [00:00<?, ?B/s]"
      ]
     },
     "metadata": {},
     "output_type": "display_data"
    },
    {
     "data": {
      "text/plain": [
       "Embedding(50278, 512)"
      ]
     },
     "execution_count": 7,
     "metadata": {},
     "output_type": "execute_result"
    }
   ],
   "source": [
    "# 創建模型\n",
    "\n",
    "device = torch.device('cuda' if torch.cuda.is_available() else 'cpu')\n",
    "model = AutoModelForCausalLM.from_pretrained(plm)\n",
    "model.resize_token_embeddings(len(tokenizer))\n",
    "if load_model:\n",
    "    model.load_state_dict(torch.load(os.path.join(model_dir , 'model1.pth'), map_location=device)) # 如果要 load model 可以用這一行 code 載入訓練好的模型"
   ]
  },
  {
   "cell_type": "code",
   "execution_count": null,
   "metadata": {
    "id": "SXAt_PfojPGU"
   },
   "outputs": [],
   "source": [
    "param_optimizer = list(model.named_parameters())\n",
    "\n",
    "no_decay = ['bias', 'LayerNorm.weight']\n",
    "optimizer_grouped_parameters = [\n",
    "    {'params': [p for n, p in param_optimizer if not any(nd in n for nd in no_decay)],\n",
    "     'weight_decay_rate': 0.01},\n",
    "    {'params': [p for n, p in param_optimizer if any(nd in n for nd in no_decay)],\n",
    "     'weight_decay_rate': 0.01}\n",
    "]\n",
    "\n",
    "# 創建 AdamW 優化器\n",
    "optimizer = AdamW(optimizer_grouped_parameters, lr=3e-5)\n"
   ]
  },
  {
   "cell_type": "code",
   "execution_count": null,
   "metadata": {
    "colab": {
     "base_uri": "https://localhost:8080/"
    },
    "id": "uCb_pwYdhnnG",
    "outputId": "acb123d6-c8bb-4c37-f4d6-dd9d33300516"
   },
   "outputs": [
    {
     "metadata": {
      "tags": null
     },
     "name": "stderr",
     "output_type": "stream",
     "text": [
      "Epoch:   6%|▋         | 1/16 [15:40<3:55:09, 940.61s/it]"
     ]
    },
    {
     "metadata": {
      "tags": null
     },
     "name": "stdout",
     "output_type": "stream",
     "text": [
      "Epoch 1, Average Loss: 1.1396466636113525\n"
     ]
    },
    {
     "metadata": {
      "tags": null
     },
     "name": "stderr",
     "output_type": "stream",
     "text": [
      "\r",
      "Epoch:  12%|█▎        | 2/16 [30:46<3:34:46, 920.47s/it]"
     ]
    },
    {
     "metadata": {
      "tags": null
     },
     "name": "stdout",
     "output_type": "stream",
     "text": [
      "Epoch 2, Average Loss: 0.8520968749669113\n"
     ]
    },
    {
     "metadata": {
      "tags": null
     },
     "name": "stderr",
     "output_type": "stream",
     "text": [
      "\r",
      "Epoch:  19%|█▉        | 3/16 [45:49<3:17:39, 912.24s/it]"
     ]
    },
    {
     "metadata": {
      "tags": null
     },
     "name": "stdout",
     "output_type": "stream",
     "text": [
      "Epoch 3, Average Loss: 0.7497952701459374\n"
     ]
    },
    {
     "metadata": {
      "tags": null
     },
     "name": "stderr",
     "output_type": "stream",
     "text": [
      "\r",
      "Epoch:  25%|██▌       | 4/16 [1:00:44<3:01:03, 905.29s/it]"
     ]
    },
    {
     "metadata": {
      "tags": null
     },
     "name": "stdout",
     "output_type": "stream",
     "text": [
      "Epoch 4, Average Loss: 0.6883466479106896\n"
     ]
    },
    {
     "metadata": {
      "tags": null
     },
     "name": "stderr",
     "output_type": "stream",
     "text": [
      "\r",
      "Epoch:  31%|███▏      | 5/16 [1:15:39<2:45:17, 901.58s/it]"
     ]
    },
    {
     "metadata": {
      "tags": null
     },
     "name": "stdout",
     "output_type": "stream",
     "text": [
      "Epoch 5, Average Loss: 0.6448762542427209\n"
     ]
    },
    {
     "metadata": {
      "tags": null
     },
     "name": "stderr",
     "output_type": "stream",
     "text": [
      "\r",
      "Epoch:  38%|███▊      | 6/16 [1:30:34<2:29:54, 899.47s/it]"
     ]
    },
    {
     "metadata": {
      "tags": null
     },
     "name": "stdout",
     "output_type": "stream",
     "text": [
      "Epoch 6, Average Loss: 0.6111221343588609\n"
     ]
    },
    {
     "metadata": {
      "tags": null
     },
     "name": "stderr",
     "output_type": "stream",
     "text": [
      "\r",
      "Epoch:  44%|████▍     | 7/16 [1:45:32<2:14:50, 898.97s/it]"
     ]
    },
    {
     "metadata": {
      "tags": null
     },
     "name": "stdout",
     "output_type": "stream",
     "text": [
      "Epoch 7, Average Loss: 0.5820464661105574\n"
     ]
    },
    {
     "metadata": {
      "tags": null
     },
     "name": "stderr",
     "output_type": "stream",
     "text": [
      "\r",
      "Epoch:  50%|█████     | 8/16 [2:00:25<1:59:37, 897.17s/it]"
     ]
    },
    {
     "metadata": {
      "tags": null
     },
     "name": "stdout",
     "output_type": "stream",
     "text": [
      "Epoch 8, Average Loss: 0.5569302330783648\n"
     ]
    },
    {
     "metadata": {
      "tags": null
     },
     "name": "stderr",
     "output_type": "stream",
     "text": [
      "\r",
      "Epoch:  56%|█████▋    | 9/16 [2:15:13<1:44:20, 894.32s/it]"
     ]
    },
    {
     "metadata": {
      "tags": null
     },
     "name": "stdout",
     "output_type": "stream",
     "text": [
      "Epoch 9, Average Loss: 0.5330988994114788\n"
     ]
    },
    {
     "name": "stderr",
     "output_type": "stream",
     "text": [
      "Epoch:  62%|██████▎   | 10/16 [2:30:01<1:29:13, 892.25s/it]"
     ]
    },
    {
     "name": "stdout",
     "output_type": "stream",
     "text": [
      "Epoch 10, Average Loss: 0.5134311589279151\n",
      "Epoch 10, Average Loss: 0.5134311589279151\n"
     ]
    }
   ],
   "source": [
    "\n",
    "min_loss = 9999\n",
    "model.to(device)\n",
    "valid_avg_loss = 99999\n",
    "count = 0\n",
    "for _ in trange(epochs, desc=\"Epoch\"):\n",
    "    model.train()  # 设置模型为训练模式\n",
    "    total_loss = 0.0\n",
    "    # 看起來是迭代 train DataLoader 的資料\n",
    "    for step, (seqs, labels, masks) in enumerate(bucket_train_dataloader):\n",
    "        seqs = seqs.to(device)\n",
    "        labels = labels.to(device)\n",
    "        masks = masks.to(device)\n",
    "\n",
    "        # 目前梯度歸零要再思考一下\n",
    "        # 梯度清零\n",
    "        model.zero_grad()\n",
    "\n",
    "        # 模型向前傳遞\n",
    "        outputs = model(seqs, labels=labels, attention_mask=masks)\n",
    "        logits = outputs.logits\n",
    "        loss = outputs.loss\n",
    "        loss = loss.mean()\n",
    "\n",
    "        total_loss += loss.item()\n",
    "\n",
    "        loss.backward()  # 向後傳遞\n",
    "        optimizer.step()\n",
    "        if loss < min_loss:\n",
    "            min_loss = loss\n",
    "            torch.save(model.state_dict(), os.path.join(model_dir , 'GPT_best.pt'))\n",
    "    # 計算每個 epoch 平均loss\n",
    "    avg_loss = total_loss / len(bucket_train_dataloader)\n",
    "\n",
    "    # 這邊迭代 valid Dataloader\n",
    "    for step, (seqs, labels, masks) in enumerate(bucket_valid_dataloader):\n",
    "        seqs = seqs.to(device)\n",
    "        labels = labels.to(device)\n",
    "        masks = masks.to(device)\n",
    "\n",
    "        # 目前梯度歸零要再思考一下\n",
    "        # 梯度清零\n",
    "        model.zero_grad()\n",
    "\n",
    "        # 模型向前傳遞\n",
    "        outputs = model(seqs, labels=labels, attention_mask=masks)\n",
    "        logits = outputs.logits\n",
    "        loss = outputs.loss\n",
    "        loss = loss.mean()\n",
    "\n",
    "        total_loss += loss.item()\n",
    "\n",
    "    # 計算 valid data 的每個 epoch 平均 loss 如果有持續上升兩次代表 可能 overfitting 了，停止 triaining\n",
    "    avg_valid_loss = total_loss / len(bucket_valid_dataloader)\n",
    "    if valid_avg_loss > avg_valid_loss:\n",
    "        valid_avg_loss = avg_valid_loss\n",
    "        torch.save(model.state_dict(), os.path.join(model_dir , 'GPT_best.pt'))\n",
    "        count = 0\n",
    "    elif count >= 2:\n",
    "        break\n",
    "    else:\n",
    "        count += 1\n",
    "    print(f\"Epoch {_ + 1}, Avg train Loss: {avg_loss}, Average avg valid Loss: {valid_avg_loss}\")"
   ]
  },
  {
   "cell_type": "code",
   "execution_count": null,
   "metadata": {
    "colab": {
     "base_uri": "https://localhost:8080/"
    },
    "id": "Tw_z0_VAUszM",
    "outputId": "1655404b-5c99-449c-8df4-ab61b5b503f7"
   },
   "outputs": [
    {
     "name": "stdout",
     "output_type": "stream",
     "text": [
      "DATE: 23/10/2063=>2063-10-05\n",
      "<|END|>\n"
     ]
    }
   ],
   "source": [
    "# 生成資料\n",
    "generated_text = sample_text(model, tokenizer, \"<|endoftext|>Collected: 29/10/2063 at :\\n####\", n_words=100)\n",
    "print(generated_text)"
   ]
  },
  {
   "cell_type": "code",
   "execution_count": null,
   "metadata": {
    "colab": {
     "background_save": true,
     "base_uri": "https://localhost:8080/"
    },
    "id": "IqUvR_JYl9FJ",
    "outputId": "7e86a36a-88ad-49c0-a19e-be8cf8b2cfc2"
   },
   "outputs": [
    {
     "name": "stderr",
     "output_type": "stream",
     "text": [
      " 51%|█████     | 283/560 [59:51<1:25:53, 18.60s/it]"
     ]
    }
   ],
   "source": [
    "answer = []\n",
    "\n",
    "def get_start_end_pos(target, text):\n",
    "    match = re.search(re.escape(target), text)\n",
    "    if match:\n",
    "        start_position = match.start()\n",
    "        end_position = match.end()\n",
    "        return start_position, end_position\n",
    "    return None, None\n",
    "\n",
    "for index, file_name in enumerate(tqdm(os.listdir(test_dataset))):\n",
    "    with open(os.path.join(test_dataset, file_name)) as f:\n",
    "        letters_counter = 0\n",
    "        lines = f.readlines()\n",
    "        for line_index, line in enumerate(lines):  ## 在這邊直接加入正則應該比較好\n",
    "            if line == \"\":\n",
    "                continue\n",
    "            else:\n",
    "                generated_text = sample_text(model, tokenizer, \"<|endoftext|>\"+line+\"####\", n_words=100)\n",
    "                if(generated_text != \"PHI:Null<|END|>\"):\n",
    "                    generated_text.replace(\"<|END|>\", \"\")\n",
    "                    answer.append((file_name, letters_counter, line, generated_text.split(\"\\n\")))\n",
    "                letters_counter += len(line)\n"
   ]
  },
  {
   "cell_type": "code",
   "execution_count": null,
   "metadata": {
    "id": "lW9LgJ6RN1c5"
   },
   "outputs": [],
   "source": [
    "result = []\n",
    "for file_name, counter, line, contents in answer:\n",
    "    for content in contents:\n",
    "        if \":\" in content:\n",
    "            data_type, rest = content[:content.find(\":\")], content[content.find(\":\") + 1: ].strip()\n",
    "            # print(rest)\n",
    "            if \"=>\" in rest:\n",
    "                content, format_date = rest[:rest.find(\"=>\")], rest[rest.find(\"=>\") + 2: ].strip()\n",
    "            else :\n",
    "                content, format_date = rest, \"\"\n",
    "            start_pos, end_pos = get_start_end_pos(content, line)\n",
    "            if start_pos is not None:\n",
    "                start_pos, end_pos = start_pos + counter, end_pos + counter\n",
    "                if len(format_date) > 0:\n",
    "                    line_info = file_name.replace(\".txt\", \"\") + \"\\t\" + data_type + '\\t' + str(start_pos) + '\\t' + str(end_pos) + '\\t' + content + '\\t' + format_date\n",
    "                elif content.count(\"=>\") == 0:\n",
    "                    line_info = file_name.replace(\".txt\", \"\") + \"\\t\" + data_type + '\\t' + str(start_pos) + '\\t' + str(end_pos) + '\\t' + content\n",
    "                result.append(line_info)\n",
    "\n",
    "with open(os.path.join(pred_dst, pred_file_name), \"w\") as f:\n",
    "    f.write(\"\\n\".join(result))"
   ]
  },
  {
   "cell_type": "code",
   "execution_count": null,
   "metadata": {
    "id": "9JJCQRcCjYzh"
   },
   "outputs": [],
   "source": []
  }
 ],
 "metadata": {
  "accelerator": "GPU",
  "colab": {
   "include_colab_link": true,
   "machine_shape": "hm",
   "provenance": []
  },
  "kernelspec": {
   "display_name": "Python 3 (ipykernel)",
   "language": "python",
   "name": "python3"
  },
  "language_info": {
   "codemirror_mode": {
    "name": "ipython",
    "version": 3
   },
   "file_extension": ".py",
   "mimetype": "text/x-python",
   "name": "python",
   "nbconvert_exporter": "python",
   "pygments_lexer": "ipython3",
   "version": "3.10.13"
  },
  "widgets": {
   "application/vnd.jupyter.widget-state+json": {
    "00905df897f248b9810a431e267d6142": {
     "model_module": "@jupyter-widgets/base",
     "model_module_version": "1.2.0",
     "model_name": "LayoutModel",
     "state": {
      "_model_module": "@jupyter-widgets/base",
      "_model_module_version": "1.2.0",
      "_model_name": "LayoutModel",
      "_view_count": null,
      "_view_module": "@jupyter-widgets/base",
      "_view_module_version": "1.2.0",
      "_view_name": "LayoutView",
      "align_content": null,
      "align_items": null,
      "align_self": null,
      "border": null,
      "bottom": null,
      "display": null,
      "flex": null,
      "flex_flow": null,
      "grid_area": null,
      "grid_auto_columns": null,
      "grid_auto_flow": null,
      "grid_auto_rows": null,
      "grid_column": null,
      "grid_gap": null,
      "grid_row": null,
      "grid_template_areas": null,
      "grid_template_columns": null,
      "grid_template_rows": null,
      "height": null,
      "justify_content": null,
      "justify_items": null,
      "left": null,
      "margin": null,
      "max_height": null,
      "max_width": null,
      "min_height": null,
      "min_width": null,
      "object_fit": null,
      "object_position": null,
      "order": null,
      "overflow": null,
      "overflow_x": null,
      "overflow_y": null,
      "padding": null,
      "right": null,
      "top": null,
      "visibility": null,
      "width": null
     }
    },
    "09fdabdd80ee48a9bfd7c3c2b68991cd": {
     "model_module": "@jupyter-widgets/controls",
     "model_module_version": "1.5.0",
     "model_name": "HTMLModel",
     "state": {
      "_dom_classes": [],
      "_model_module": "@jupyter-widgets/controls",
      "_model_module_version": "1.5.0",
      "_model_name": "HTMLModel",
      "_view_count": null,
      "_view_module": "@jupyter-widgets/controls",
      "_view_module_version": "1.5.0",
      "_view_name": "HTMLView",
      "description": "",
      "description_tooltip": null,
      "layout": "IPY_MODEL_9f2e64c81f6647b08492ed19e142cf03",
      "placeholder": "​",
      "style": "IPY_MODEL_24197d32d5724de48a47a45c8b066a13",
      "value": " 2.11M/2.11M [00:00&lt;00:00, 8.66MB/s]"
     }
    },
    "12ee7081018442cbaaa00536048aecb1": {
     "model_module": "@jupyter-widgets/controls",
     "model_module_version": "1.5.0",
     "model_name": "HTMLModel",
     "state": {
      "_dom_classes": [],
      "_model_module": "@jupyter-widgets/controls",
      "_model_module_version": "1.5.0",
      "_model_name": "HTMLModel",
      "_view_count": null,
      "_view_module": "@jupyter-widgets/controls",
      "_view_module_version": "1.5.0",
      "_view_name": "HTMLView",
      "description": "",
      "description_tooltip": null,
      "layout": "IPY_MODEL_ab4338f4d7074a61857fb5395cd846a4",
      "placeholder": "​",
      "style": "IPY_MODEL_d36d7aef812e46bb9112685c9d9fdf61",
      "value": "tokenizer.json: 100%"
     }
    },
    "168737fbfd8f4ccf94eb8d791ae81f0c": {
     "model_module": "@jupyter-widgets/base",
     "model_module_version": "1.2.0",
     "model_name": "LayoutModel",
     "state": {
      "_model_module": "@jupyter-widgets/base",
      "_model_module_version": "1.2.0",
      "_model_name": "LayoutModel",
      "_view_count": null,
      "_view_module": "@jupyter-widgets/base",
      "_view_module_version": "1.2.0",
      "_view_name": "LayoutView",
      "align_content": null,
      "align_items": null,
      "align_self": null,
      "border": null,
      "bottom": null,
      "display": null,
      "flex": null,
      "flex_flow": null,
      "grid_area": null,
      "grid_auto_columns": null,
      "grid_auto_flow": null,
      "grid_auto_rows": null,
      "grid_column": null,
      "grid_gap": null,
      "grid_row": null,
      "grid_template_areas": null,
      "grid_template_columns": null,
      "grid_template_rows": null,
      "height": null,
      "justify_content": null,
      "justify_items": null,
      "left": null,
      "margin": null,
      "max_height": null,
      "max_width": null,
      "min_height": null,
      "min_width": null,
      "object_fit": null,
      "object_position": null,
      "order": null,
      "overflow": null,
      "overflow_x": null,
      "overflow_y": null,
      "padding": null,
      "right": null,
      "top": null,
      "visibility": null,
      "width": null
     }
    },
    "1b26d849d22343b8b1a4bb30b76b5b68": {
     "model_module": "@jupyter-widgets/controls",
     "model_module_version": "1.5.0",
     "model_name": "ProgressStyleModel",
     "state": {
      "_model_module": "@jupyter-widgets/controls",
      "_model_module_version": "1.5.0",
      "_model_name": "ProgressStyleModel",
      "_view_count": null,
      "_view_module": "@jupyter-widgets/base",
      "_view_module_version": "1.2.0",
      "_view_name": "StyleView",
      "bar_color": null,
      "description_width": ""
     }
    },
    "1cb1be73bc804448b8ae5d322edabfc7": {
     "model_module": "@jupyter-widgets/base",
     "model_module_version": "1.2.0",
     "model_name": "LayoutModel",
     "state": {
      "_model_module": "@jupyter-widgets/base",
      "_model_module_version": "1.2.0",
      "_model_name": "LayoutModel",
      "_view_count": null,
      "_view_module": "@jupyter-widgets/base",
      "_view_module_version": "1.2.0",
      "_view_name": "LayoutView",
      "align_content": null,
      "align_items": null,
      "align_self": null,
      "border": null,
      "bottom": null,
      "display": null,
      "flex": null,
      "flex_flow": null,
      "grid_area": null,
      "grid_auto_columns": null,
      "grid_auto_flow": null,
      "grid_auto_rows": null,
      "grid_column": null,
      "grid_gap": null,
      "grid_row": null,
      "grid_template_areas": null,
      "grid_template_columns": null,
      "grid_template_rows": null,
      "height": null,
      "justify_content": null,
      "justify_items": null,
      "left": null,
      "margin": null,
      "max_height": null,
      "max_width": null,
      "min_height": null,
      "min_width": null,
      "object_fit": null,
      "object_position": null,
      "order": null,
      "overflow": null,
      "overflow_x": null,
      "overflow_y": null,
      "padding": null,
      "right": null,
      "top": null,
      "visibility": null,
      "width": null
     }
    },
    "24197d32d5724de48a47a45c8b066a13": {
     "model_module": "@jupyter-widgets/controls",
     "model_module_version": "1.5.0",
     "model_name": "DescriptionStyleModel",
     "state": {
      "_model_module": "@jupyter-widgets/controls",
      "_model_module_version": "1.5.0",
      "_model_name": "DescriptionStyleModel",
      "_view_count": null,
      "_view_module": "@jupyter-widgets/base",
      "_view_module_version": "1.2.0",
      "_view_name": "StyleView",
      "description_width": ""
     }
    },
    "25a15f2ac3fe4e63a0f3c6e86a38de90": {
     "model_module": "@jupyter-widgets/controls",
     "model_module_version": "1.5.0",
     "model_name": "HTMLModel",
     "state": {
      "_dom_classes": [],
      "_model_module": "@jupyter-widgets/controls",
      "_model_module_version": "1.5.0",
      "_model_name": "HTMLModel",
      "_view_count": null,
      "_view_module": "@jupyter-widgets/controls",
      "_view_module_version": "1.5.0",
      "_view_name": "HTMLView",
      "description": "",
      "description_tooltip": null,
      "layout": "IPY_MODEL_36028772d9dc4b648242ec0ef02c019e",
      "placeholder": "​",
      "style": "IPY_MODEL_d855a1f47989453b80f30a3dcf88bef0",
      "value": " 99.0/99.0 [00:00&lt;00:00, 6.96kB/s]"
     }
    },
    "2887390e0e6b49ed9fd3626d6e66a24a": {
     "model_module": "@jupyter-widgets/controls",
     "model_module_version": "1.5.0",
     "model_name": "HBoxModel",
     "state": {
      "_dom_classes": [],
      "_model_module": "@jupyter-widgets/controls",
      "_model_module_version": "1.5.0",
      "_model_name": "HBoxModel",
      "_view_count": null,
      "_view_module": "@jupyter-widgets/controls",
      "_view_module_version": "1.5.0",
      "_view_name": "HBoxView",
      "box_style": "",
      "children": [
       "IPY_MODEL_b99d21972f734d4293197119587f23a1",
       "IPY_MODEL_dc01a32937df420e957a76e1d5a6bfe1",
       "IPY_MODEL_25a15f2ac3fe4e63a0f3c6e86a38de90"
      ],
      "layout": "IPY_MODEL_1cb1be73bc804448b8ae5d322edabfc7"
     }
    },
    "29b4254e7f8b416595774dc540cc2a88": {
     "model_module": "@jupyter-widgets/base",
     "model_module_version": "1.2.0",
     "model_name": "LayoutModel",
     "state": {
      "_model_module": "@jupyter-widgets/base",
      "_model_module_version": "1.2.0",
      "_model_name": "LayoutModel",
      "_view_count": null,
      "_view_module": "@jupyter-widgets/base",
      "_view_module_version": "1.2.0",
      "_view_name": "LayoutView",
      "align_content": null,
      "align_items": null,
      "align_self": null,
      "border": null,
      "bottom": null,
      "display": null,
      "flex": null,
      "flex_flow": null,
      "grid_area": null,
      "grid_auto_columns": null,
      "grid_auto_flow": null,
      "grid_auto_rows": null,
      "grid_column": null,
      "grid_gap": null,
      "grid_row": null,
      "grid_template_areas": null,
      "grid_template_columns": null,
      "grid_template_rows": null,
      "height": null,
      "justify_content": null,
      "justify_items": null,
      "left": null,
      "margin": null,
      "max_height": null,
      "max_width": null,
      "min_height": null,
      "min_width": null,
      "object_fit": null,
      "object_position": null,
      "order": null,
      "overflow": null,
      "overflow_x": null,
      "overflow_y": null,
      "padding": null,
      "right": null,
      "top": null,
      "visibility": null,
      "width": null
     }
    },
    "2cd3d46b59c84532b6cc4e0496dee7d2": {
     "model_module": "@jupyter-widgets/controls",
     "model_module_version": "1.5.0",
     "model_name": "HTMLModel",
     "state": {
      "_dom_classes": [],
      "_model_module": "@jupyter-widgets/controls",
      "_model_module_version": "1.5.0",
      "_model_name": "HTMLModel",
      "_view_count": null,
      "_view_module": "@jupyter-widgets/controls",
      "_view_module_version": "1.5.0",
      "_view_name": "HTMLView",
      "description": "",
      "description_tooltip": null,
      "layout": "IPY_MODEL_5c79e04b37f44778ac8391837df0b983",
      "placeholder": "​",
      "style": "IPY_MODEL_482171c2fb5d4732ac0eae87a0afcc82",
      "value": " 567/567 [00:00&lt;00:00, 16.1kB/s]"
     }
    },
    "2dfff9fefd2a4935a4be53a26a53e7a1": {
     "model_module": "@jupyter-widgets/controls",
     "model_module_version": "1.5.0",
     "model_name": "HTMLModel",
     "state": {
      "_dom_classes": [],
      "_model_module": "@jupyter-widgets/controls",
      "_model_module_version": "1.5.0",
      "_model_name": "HTMLModel",
      "_view_count": null,
      "_view_module": "@jupyter-widgets/controls",
      "_view_module_version": "1.5.0",
      "_view_name": "HTMLView",
      "description": "",
      "description_tooltip": null,
      "layout": "IPY_MODEL_d68c5fa0662b4c64b6d4301ea0dab75f",
      "placeholder": "​",
      "style": "IPY_MODEL_8f2931967b8c4fd29b22219924bac295",
      "value": "tokenizer_config.json: 100%"
     }
    },
    "2fdfe54c168a4d26ae12e19876f814bf": {
     "model_module": "@jupyter-widgets/base",
     "model_module_version": "1.2.0",
     "model_name": "LayoutModel",
     "state": {
      "_model_module": "@jupyter-widgets/base",
      "_model_module_version": "1.2.0",
      "_model_name": "LayoutModel",
      "_view_count": null,
      "_view_module": "@jupyter-widgets/base",
      "_view_module_version": "1.2.0",
      "_view_name": "LayoutView",
      "align_content": null,
      "align_items": null,
      "align_self": null,
      "border": null,
      "bottom": null,
      "display": null,
      "flex": null,
      "flex_flow": null,
      "grid_area": null,
      "grid_auto_columns": null,
      "grid_auto_flow": null,
      "grid_auto_rows": null,
      "grid_column": null,
      "grid_gap": null,
      "grid_row": null,
      "grid_template_areas": null,
      "grid_template_columns": null,
      "grid_template_rows": null,
      "height": null,
      "justify_content": null,
      "justify_items": null,
      "left": null,
      "margin": null,
      "max_height": null,
      "max_width": null,
      "min_height": null,
      "min_width": null,
      "object_fit": null,
      "object_position": null,
      "order": null,
      "overflow": null,
      "overflow_x": null,
      "overflow_y": null,
      "padding": null,
      "right": null,
      "top": null,
      "visibility": null,
      "width": null
     }
    },
    "36028772d9dc4b648242ec0ef02c019e": {
     "model_module": "@jupyter-widgets/base",
     "model_module_version": "1.2.0",
     "model_name": "LayoutModel",
     "state": {
      "_model_module": "@jupyter-widgets/base",
      "_model_module_version": "1.2.0",
      "_model_name": "LayoutModel",
      "_view_count": null,
      "_view_module": "@jupyter-widgets/base",
      "_view_module_version": "1.2.0",
      "_view_name": "LayoutView",
      "align_content": null,
      "align_items": null,
      "align_self": null,
      "border": null,
      "bottom": null,
      "display": null,
      "flex": null,
      "flex_flow": null,
      "grid_area": null,
      "grid_auto_columns": null,
      "grid_auto_flow": null,
      "grid_auto_rows": null,
      "grid_column": null,
      "grid_gap": null,
      "grid_row": null,
      "grid_template_areas": null,
      "grid_template_columns": null,
      "grid_template_rows": null,
      "height": null,
      "justify_content": null,
      "justify_items": null,
      "left": null,
      "margin": null,
      "max_height": null,
      "max_width": null,
      "min_height": null,
      "min_width": null,
      "object_fit": null,
      "object_position": null,
      "order": null,
      "overflow": null,
      "overflow_x": null,
      "overflow_y": null,
      "padding": null,
      "right": null,
      "top": null,
      "visibility": null,
      "width": null
     }
    },
    "399889b2dfe64e2a940c10c8fc3741b3": {
     "model_module": "@jupyter-widgets/controls",
     "model_module_version": "1.5.0",
     "model_name": "HBoxModel",
     "state": {
      "_dom_classes": [],
      "_model_module": "@jupyter-widgets/controls",
      "_model_module_version": "1.5.0",
      "_model_name": "HBoxModel",
      "_view_count": null,
      "_view_module": "@jupyter-widgets/controls",
      "_view_module_version": "1.5.0",
      "_view_name": "HBoxView",
      "box_style": "",
      "children": [
       "IPY_MODEL_606b224bc1574765b5a376e56dcc911e",
       "IPY_MODEL_6dfaac3a2a154b4e8e4517babe9d2a78",
       "IPY_MODEL_8fb927efcd474ad184606eaae563a3f4"
      ],
      "layout": "IPY_MODEL_168737fbfd8f4ccf94eb8d791ae81f0c"
     }
    },
    "482171c2fb5d4732ac0eae87a0afcc82": {
     "model_module": "@jupyter-widgets/controls",
     "model_module_version": "1.5.0",
     "model_name": "DescriptionStyleModel",
     "state": {
      "_model_module": "@jupyter-widgets/controls",
      "_model_module_version": "1.5.0",
      "_model_name": "DescriptionStyleModel",
      "_view_count": null,
      "_view_module": "@jupyter-widgets/base",
      "_view_module_version": "1.2.0",
      "_view_name": "StyleView",
      "description_width": ""
     }
    },
    "50cb5a47e8d24744ad71a8e70ec21b5d": {
     "model_module": "@jupyter-widgets/controls",
     "model_module_version": "1.5.0",
     "model_name": "ProgressStyleModel",
     "state": {
      "_model_module": "@jupyter-widgets/controls",
      "_model_module_version": "1.5.0",
      "_model_name": "ProgressStyleModel",
      "_view_count": null,
      "_view_module": "@jupyter-widgets/base",
      "_view_module_version": "1.2.0",
      "_view_name": "StyleView",
      "bar_color": null,
      "description_width": ""
     }
    },
    "536ce914343c449c99171f103d93d109": {
     "model_module": "@jupyter-widgets/controls",
     "model_module_version": "1.5.0",
     "model_name": "DescriptionStyleModel",
     "state": {
      "_model_module": "@jupyter-widgets/controls",
      "_model_module_version": "1.5.0",
      "_model_name": "DescriptionStyleModel",
      "_view_count": null,
      "_view_module": "@jupyter-widgets/base",
      "_view_module_version": "1.2.0",
      "_view_name": "StyleView",
      "description_width": ""
     }
    },
    "5748a1838a0a4668b4d9ad9eab836401": {
     "model_module": "@jupyter-widgets/base",
     "model_module_version": "1.2.0",
     "model_name": "LayoutModel",
     "state": {
      "_model_module": "@jupyter-widgets/base",
      "_model_module_version": "1.2.0",
      "_model_name": "LayoutModel",
      "_view_count": null,
      "_view_module": "@jupyter-widgets/base",
      "_view_module_version": "1.2.0",
      "_view_name": "LayoutView",
      "align_content": null,
      "align_items": null,
      "align_self": null,
      "border": null,
      "bottom": null,
      "display": null,
      "flex": null,
      "flex_flow": null,
      "grid_area": null,
      "grid_auto_columns": null,
      "grid_auto_flow": null,
      "grid_auto_rows": null,
      "grid_column": null,
      "grid_gap": null,
      "grid_row": null,
      "grid_template_areas": null,
      "grid_template_columns": null,
      "grid_template_rows": null,
      "height": null,
      "justify_content": null,
      "justify_items": null,
      "left": null,
      "margin": null,
      "max_height": null,
      "max_width": null,
      "min_height": null,
      "min_width": null,
      "object_fit": null,
      "object_position": null,
      "order": null,
      "overflow": null,
      "overflow_x": null,
      "overflow_y": null,
      "padding": null,
      "right": null,
      "top": null,
      "visibility": null,
      "width": null
     }
    },
    "5c79e04b37f44778ac8391837df0b983": {
     "model_module": "@jupyter-widgets/base",
     "model_module_version": "1.2.0",
     "model_name": "LayoutModel",
     "state": {
      "_model_module": "@jupyter-widgets/base",
      "_model_module_version": "1.2.0",
      "_model_name": "LayoutModel",
      "_view_count": null,
      "_view_module": "@jupyter-widgets/base",
      "_view_module_version": "1.2.0",
      "_view_name": "LayoutView",
      "align_content": null,
      "align_items": null,
      "align_self": null,
      "border": null,
      "bottom": null,
      "display": null,
      "flex": null,
      "flex_flow": null,
      "grid_area": null,
      "grid_auto_columns": null,
      "grid_auto_flow": null,
      "grid_auto_rows": null,
      "grid_column": null,
      "grid_gap": null,
      "grid_row": null,
      "grid_template_areas": null,
      "grid_template_columns": null,
      "grid_template_rows": null,
      "height": null,
      "justify_content": null,
      "justify_items": null,
      "left": null,
      "margin": null,
      "max_height": null,
      "max_width": null,
      "min_height": null,
      "min_width": null,
      "object_fit": null,
      "object_position": null,
      "order": null,
      "overflow": null,
      "overflow_x": null,
      "overflow_y": null,
      "padding": null,
      "right": null,
      "top": null,
      "visibility": null,
      "width": null
     }
    },
    "606b224bc1574765b5a376e56dcc911e": {
     "model_module": "@jupyter-widgets/controls",
     "model_module_version": "1.5.0",
     "model_name": "HTMLModel",
     "state": {
      "_dom_classes": [],
      "_model_module": "@jupyter-widgets/controls",
      "_model_module_version": "1.5.0",
      "_model_name": "HTMLModel",
      "_view_count": null,
      "_view_module": "@jupyter-widgets/controls",
      "_view_module_version": "1.5.0",
      "_view_name": "HTMLView",
      "description": "",
      "description_tooltip": null,
      "layout": "IPY_MODEL_c364ba32840e4d789c72defef28be473",
      "placeholder": "​",
      "style": "IPY_MODEL_ad591b8110844ff6bb195454a47debd4",
      "value": "model.safetensors: 100%"
     }
    },
    "687fd2fb5e2d45b6a44f23758200f0d2": {
     "model_module": "@jupyter-widgets/controls",
     "model_module_version": "1.5.0",
     "model_name": "FloatProgressModel",
     "state": {
      "_dom_classes": [],
      "_model_module": "@jupyter-widgets/controls",
      "_model_module_version": "1.5.0",
      "_model_name": "FloatProgressModel",
      "_view_count": null,
      "_view_module": "@jupyter-widgets/controls",
      "_view_module_version": "1.5.0",
      "_view_name": "ProgressView",
      "bar_style": "success",
      "description": "",
      "description_tooltip": null,
      "layout": "IPY_MODEL_99aa784e53114968a5fdb81f88d285c7",
      "max": 2113710,
      "min": 0,
      "orientation": "horizontal",
      "style": "IPY_MODEL_e6cbb2aac0104af6b81bc2e456b72455",
      "value": 2113710
     }
    },
    "6dfaac3a2a154b4e8e4517babe9d2a78": {
     "model_module": "@jupyter-widgets/controls",
     "model_module_version": "1.5.0",
     "model_name": "FloatProgressModel",
     "state": {
      "_dom_classes": [],
      "_model_module": "@jupyter-widgets/controls",
      "_model_module_version": "1.5.0",
      "_model_name": "FloatProgressModel",
      "_view_count": null,
      "_view_module": "@jupyter-widgets/controls",
      "_view_module_version": "1.5.0",
      "_view_name": "ProgressView",
      "bar_style": "success",
      "description": "",
      "description_tooltip": null,
      "layout": "IPY_MODEL_ef4e100d10e94457bf8d7c8432165e62",
      "max": 166029852,
      "min": 0,
      "orientation": "horizontal",
      "style": "IPY_MODEL_8bb860df179e40afae33f3fd67e4c5c8",
      "value": 166029852
     }
    },
    "74d9f481b4e74c649e3c5e2a54e71af6": {
     "model_module": "@jupyter-widgets/controls",
     "model_module_version": "1.5.0",
     "model_name": "HBoxModel",
     "state": {
      "_dom_classes": [],
      "_model_module": "@jupyter-widgets/controls",
      "_model_module_version": "1.5.0",
      "_model_name": "HBoxModel",
      "_view_count": null,
      "_view_module": "@jupyter-widgets/controls",
      "_view_module_version": "1.5.0",
      "_view_name": "HBoxView",
      "box_style": "",
      "children": [
       "IPY_MODEL_12ee7081018442cbaaa00536048aecb1",
       "IPY_MODEL_687fd2fb5e2d45b6a44f23758200f0d2",
       "IPY_MODEL_09fdabdd80ee48a9bfd7c3c2b68991cd"
      ],
      "layout": "IPY_MODEL_29b4254e7f8b416595774dc540cc2a88"
     }
    },
    "880e3091872c4866929938b4a25be1eb": {
     "model_module": "@jupyter-widgets/controls",
     "model_module_version": "1.5.0",
     "model_name": "FloatProgressModel",
     "state": {
      "_dom_classes": [],
      "_model_module": "@jupyter-widgets/controls",
      "_model_module_version": "1.5.0",
      "_model_name": "FloatProgressModel",
      "_view_count": null,
      "_view_module": "@jupyter-widgets/controls",
      "_view_module_version": "1.5.0",
      "_view_name": "ProgressView",
      "bar_style": "success",
      "description": "",
      "description_tooltip": null,
      "layout": "IPY_MODEL_5748a1838a0a4668b4d9ad9eab836401",
      "max": 567,
      "min": 0,
      "orientation": "horizontal",
      "style": "IPY_MODEL_50cb5a47e8d24744ad71a8e70ec21b5d",
      "value": 567
     }
    },
    "8bb860df179e40afae33f3fd67e4c5c8": {
     "model_module": "@jupyter-widgets/controls",
     "model_module_version": "1.5.0",
     "model_name": "ProgressStyleModel",
     "state": {
      "_model_module": "@jupyter-widgets/controls",
      "_model_module_version": "1.5.0",
      "_model_name": "ProgressStyleModel",
      "_view_count": null,
      "_view_module": "@jupyter-widgets/base",
      "_view_module_version": "1.2.0",
      "_view_name": "StyleView",
      "bar_color": null,
      "description_width": ""
     }
    },
    "8f2931967b8c4fd29b22219924bac295": {
     "model_module": "@jupyter-widgets/controls",
     "model_module_version": "1.5.0",
     "model_name": "DescriptionStyleModel",
     "state": {
      "_model_module": "@jupyter-widgets/controls",
      "_model_module_version": "1.5.0",
      "_model_name": "DescriptionStyleModel",
      "_view_count": null,
      "_view_module": "@jupyter-widgets/base",
      "_view_module_version": "1.2.0",
      "_view_name": "StyleView",
      "description_width": ""
     }
    },
    "8fb927efcd474ad184606eaae563a3f4": {
     "model_module": "@jupyter-widgets/controls",
     "model_module_version": "1.5.0",
     "model_name": "HTMLModel",
     "state": {
      "_dom_classes": [],
      "_model_module": "@jupyter-widgets/controls",
      "_model_module_version": "1.5.0",
      "_model_name": "HTMLModel",
      "_view_count": null,
      "_view_module": "@jupyter-widgets/controls",
      "_view_module_version": "1.5.0",
      "_view_name": "HTMLView",
      "description": "",
      "description_tooltip": null,
      "layout": "IPY_MODEL_2fdfe54c168a4d26ae12e19876f814bf",
      "placeholder": "​",
      "style": "IPY_MODEL_536ce914343c449c99171f103d93d109",
      "value": " 166M/166M [00:00&lt;00:00, 281MB/s]"
     }
    },
    "90c1cb33a59d4437be2b2dc704d17eb1": {
     "model_module": "@jupyter-widgets/base",
     "model_module_version": "1.2.0",
     "model_name": "LayoutModel",
     "state": {
      "_model_module": "@jupyter-widgets/base",
      "_model_module_version": "1.2.0",
      "_model_name": "LayoutModel",
      "_view_count": null,
      "_view_module": "@jupyter-widgets/base",
      "_view_module_version": "1.2.0",
      "_view_name": "LayoutView",
      "align_content": null,
      "align_items": null,
      "align_self": null,
      "border": null,
      "bottom": null,
      "display": null,
      "flex": null,
      "flex_flow": null,
      "grid_area": null,
      "grid_auto_columns": null,
      "grid_auto_flow": null,
      "grid_auto_rows": null,
      "grid_column": null,
      "grid_gap": null,
      "grid_row": null,
      "grid_template_areas": null,
      "grid_template_columns": null,
      "grid_template_rows": null,
      "height": null,
      "justify_content": null,
      "justify_items": null,
      "left": null,
      "margin": null,
      "max_height": null,
      "max_width": null,
      "min_height": null,
      "min_width": null,
      "object_fit": null,
      "object_position": null,
      "order": null,
      "overflow": null,
      "overflow_x": null,
      "overflow_y": null,
      "padding": null,
      "right": null,
      "top": null,
      "visibility": null,
      "width": null
     }
    },
    "94992f40b5c7416e970697ad62d69eed": {
     "model_module": "@jupyter-widgets/controls",
     "model_module_version": "1.5.0",
     "model_name": "DescriptionStyleModel",
     "state": {
      "_model_module": "@jupyter-widgets/controls",
      "_model_module_version": "1.5.0",
      "_model_name": "DescriptionStyleModel",
      "_view_count": null,
      "_view_module": "@jupyter-widgets/base",
      "_view_module_version": "1.2.0",
      "_view_name": "StyleView",
      "description_width": ""
     }
    },
    "99aa784e53114968a5fdb81f88d285c7": {
     "model_module": "@jupyter-widgets/base",
     "model_module_version": "1.2.0",
     "model_name": "LayoutModel",
     "state": {
      "_model_module": "@jupyter-widgets/base",
      "_model_module_version": "1.2.0",
      "_model_name": "LayoutModel",
      "_view_count": null,
      "_view_module": "@jupyter-widgets/base",
      "_view_module_version": "1.2.0",
      "_view_name": "LayoutView",
      "align_content": null,
      "align_items": null,
      "align_self": null,
      "border": null,
      "bottom": null,
      "display": null,
      "flex": null,
      "flex_flow": null,
      "grid_area": null,
      "grid_auto_columns": null,
      "grid_auto_flow": null,
      "grid_auto_rows": null,
      "grid_column": null,
      "grid_gap": null,
      "grid_row": null,
      "grid_template_areas": null,
      "grid_template_columns": null,
      "grid_template_rows": null,
      "height": null,
      "justify_content": null,
      "justify_items": null,
      "left": null,
      "margin": null,
      "max_height": null,
      "max_width": null,
      "min_height": null,
      "min_width": null,
      "object_fit": null,
      "object_position": null,
      "order": null,
      "overflow": null,
      "overflow_x": null,
      "overflow_y": null,
      "padding": null,
      "right": null,
      "top": null,
      "visibility": null,
      "width": null
     }
    },
    "9b06a2322ab342e0895c29f45f3a4b2c": {
     "model_module": "@jupyter-widgets/base",
     "model_module_version": "1.2.0",
     "model_name": "LayoutModel",
     "state": {
      "_model_module": "@jupyter-widgets/base",
      "_model_module_version": "1.2.0",
      "_model_name": "LayoutModel",
      "_view_count": null,
      "_view_module": "@jupyter-widgets/base",
      "_view_module_version": "1.2.0",
      "_view_name": "LayoutView",
      "align_content": null,
      "align_items": null,
      "align_self": null,
      "border": null,
      "bottom": null,
      "display": null,
      "flex": null,
      "flex_flow": null,
      "grid_area": null,
      "grid_auto_columns": null,
      "grid_auto_flow": null,
      "grid_auto_rows": null,
      "grid_column": null,
      "grid_gap": null,
      "grid_row": null,
      "grid_template_areas": null,
      "grid_template_columns": null,
      "grid_template_rows": null,
      "height": null,
      "justify_content": null,
      "justify_items": null,
      "left": null,
      "margin": null,
      "max_height": null,
      "max_width": null,
      "min_height": null,
      "min_width": null,
      "object_fit": null,
      "object_position": null,
      "order": null,
      "overflow": null,
      "overflow_x": null,
      "overflow_y": null,
      "padding": null,
      "right": null,
      "top": null,
      "visibility": null,
      "width": null
     }
    },
    "9f2e64c81f6647b08492ed19e142cf03": {
     "model_module": "@jupyter-widgets/base",
     "model_module_version": "1.2.0",
     "model_name": "LayoutModel",
     "state": {
      "_model_module": "@jupyter-widgets/base",
      "_model_module_version": "1.2.0",
      "_model_name": "LayoutModel",
      "_view_count": null,
      "_view_module": "@jupyter-widgets/base",
      "_view_module_version": "1.2.0",
      "_view_name": "LayoutView",
      "align_content": null,
      "align_items": null,
      "align_self": null,
      "border": null,
      "bottom": null,
      "display": null,
      "flex": null,
      "flex_flow": null,
      "grid_area": null,
      "grid_auto_columns": null,
      "grid_auto_flow": null,
      "grid_auto_rows": null,
      "grid_column": null,
      "grid_gap": null,
      "grid_row": null,
      "grid_template_areas": null,
      "grid_template_columns": null,
      "grid_template_rows": null,
      "height": null,
      "justify_content": null,
      "justify_items": null,
      "left": null,
      "margin": null,
      "max_height": null,
      "max_width": null,
      "min_height": null,
      "min_width": null,
      "object_fit": null,
      "object_position": null,
      "order": null,
      "overflow": null,
      "overflow_x": null,
      "overflow_y": null,
      "padding": null,
      "right": null,
      "top": null,
      "visibility": null,
      "width": null
     }
    },
    "9f7c460afcc848a090b3b73833315e13": {
     "model_module": "@jupyter-widgets/controls",
     "model_module_version": "1.5.0",
     "model_name": "ProgressStyleModel",
     "state": {
      "_model_module": "@jupyter-widgets/controls",
      "_model_module_version": "1.5.0",
      "_model_name": "ProgressStyleModel",
      "_view_count": null,
      "_view_module": "@jupyter-widgets/base",
      "_view_module_version": "1.2.0",
      "_view_name": "StyleView",
      "bar_color": null,
      "description_width": ""
     }
    },
    "a3302b28e6a840e7b4833f1d31751408": {
     "model_module": "@jupyter-widgets/controls",
     "model_module_version": "1.5.0",
     "model_name": "DescriptionStyleModel",
     "state": {
      "_model_module": "@jupyter-widgets/controls",
      "_model_module_version": "1.5.0",
      "_model_name": "DescriptionStyleModel",
      "_view_count": null,
      "_view_module": "@jupyter-widgets/base",
      "_view_module_version": "1.2.0",
      "_view_name": "StyleView",
      "description_width": ""
     }
    },
    "a618044a82f04915af4cd583c93c3922": {
     "model_module": "@jupyter-widgets/controls",
     "model_module_version": "1.5.0",
     "model_name": "HTMLModel",
     "state": {
      "_dom_classes": [],
      "_model_module": "@jupyter-widgets/controls",
      "_model_module_version": "1.5.0",
      "_model_name": "HTMLModel",
      "_view_count": null,
      "_view_module": "@jupyter-widgets/controls",
      "_view_module_version": "1.5.0",
      "_view_name": "HTMLView",
      "description": "",
      "description_tooltip": null,
      "layout": "IPY_MODEL_90c1cb33a59d4437be2b2dc704d17eb1",
      "placeholder": "​",
      "style": "IPY_MODEL_ac5cd7e853854b1e9fffed2f55bb6f17",
      "value": " 396/396 [00:00&lt;00:00, 21.4kB/s]"
     }
    },
    "ab4338f4d7074a61857fb5395cd846a4": {
     "model_module": "@jupyter-widgets/base",
     "model_module_version": "1.2.0",
     "model_name": "LayoutModel",
     "state": {
      "_model_module": "@jupyter-widgets/base",
      "_model_module_version": "1.2.0",
      "_model_name": "LayoutModel",
      "_view_count": null,
      "_view_module": "@jupyter-widgets/base",
      "_view_module_version": "1.2.0",
      "_view_name": "LayoutView",
      "align_content": null,
      "align_items": null,
      "align_self": null,
      "border": null,
      "bottom": null,
      "display": null,
      "flex": null,
      "flex_flow": null,
      "grid_area": null,
      "grid_auto_columns": null,
      "grid_auto_flow": null,
      "grid_auto_rows": null,
      "grid_column": null,
      "grid_gap": null,
      "grid_row": null,
      "grid_template_areas": null,
      "grid_template_columns": null,
      "grid_template_rows": null,
      "height": null,
      "justify_content": null,
      "justify_items": null,
      "left": null,
      "margin": null,
      "max_height": null,
      "max_width": null,
      "min_height": null,
      "min_width": null,
      "object_fit": null,
      "object_position": null,
      "order": null,
      "overflow": null,
      "overflow_x": null,
      "overflow_y": null,
      "padding": null,
      "right": null,
      "top": null,
      "visibility": null,
      "width": null
     }
    },
    "ac5cd7e853854b1e9fffed2f55bb6f17": {
     "model_module": "@jupyter-widgets/controls",
     "model_module_version": "1.5.0",
     "model_name": "DescriptionStyleModel",
     "state": {
      "_model_module": "@jupyter-widgets/controls",
      "_model_module_version": "1.5.0",
      "_model_name": "DescriptionStyleModel",
      "_view_count": null,
      "_view_module": "@jupyter-widgets/base",
      "_view_module_version": "1.2.0",
      "_view_name": "StyleView",
      "description_width": ""
     }
    },
    "ad591b8110844ff6bb195454a47debd4": {
     "model_module": "@jupyter-widgets/controls",
     "model_module_version": "1.5.0",
     "model_name": "DescriptionStyleModel",
     "state": {
      "_model_module": "@jupyter-widgets/controls",
      "_model_module_version": "1.5.0",
      "_model_name": "DescriptionStyleModel",
      "_view_count": null,
      "_view_module": "@jupyter-widgets/base",
      "_view_module_version": "1.2.0",
      "_view_name": "StyleView",
      "description_width": ""
     }
    },
    "b440b68d1ff540e0bfcc5c5835e00c0b": {
     "model_module": "@jupyter-widgets/base",
     "model_module_version": "1.2.0",
     "model_name": "LayoutModel",
     "state": {
      "_model_module": "@jupyter-widgets/base",
      "_model_module_version": "1.2.0",
      "_model_name": "LayoutModel",
      "_view_count": null,
      "_view_module": "@jupyter-widgets/base",
      "_view_module_version": "1.2.0",
      "_view_name": "LayoutView",
      "align_content": null,
      "align_items": null,
      "align_self": null,
      "border": null,
      "bottom": null,
      "display": null,
      "flex": null,
      "flex_flow": null,
      "grid_area": null,
      "grid_auto_columns": null,
      "grid_auto_flow": null,
      "grid_auto_rows": null,
      "grid_column": null,
      "grid_gap": null,
      "grid_row": null,
      "grid_template_areas": null,
      "grid_template_columns": null,
      "grid_template_rows": null,
      "height": null,
      "justify_content": null,
      "justify_items": null,
      "left": null,
      "margin": null,
      "max_height": null,
      "max_width": null,
      "min_height": null,
      "min_width": null,
      "object_fit": null,
      "object_position": null,
      "order": null,
      "overflow": null,
      "overflow_x": null,
      "overflow_y": null,
      "padding": null,
      "right": null,
      "top": null,
      "visibility": null,
      "width": null
     }
    },
    "b99d21972f734d4293197119587f23a1": {
     "model_module": "@jupyter-widgets/controls",
     "model_module_version": "1.5.0",
     "model_name": "HTMLModel",
     "state": {
      "_dom_classes": [],
      "_model_module": "@jupyter-widgets/controls",
      "_model_module_version": "1.5.0",
      "_model_name": "HTMLModel",
      "_view_count": null,
      "_view_module": "@jupyter-widgets/controls",
      "_view_module_version": "1.5.0",
      "_view_name": "HTMLView",
      "description": "",
      "description_tooltip": null,
      "layout": "IPY_MODEL_e0c0a6c1d3ec4125a429aed66a065e3c",
      "placeholder": "​",
      "style": "IPY_MODEL_a3302b28e6a840e7b4833f1d31751408",
      "value": "special_tokens_map.json: 100%"
     }
    },
    "be60c76121114f39ae55a47b92bd4ba7": {
     "model_module": "@jupyter-widgets/base",
     "model_module_version": "1.2.0",
     "model_name": "LayoutModel",
     "state": {
      "_model_module": "@jupyter-widgets/base",
      "_model_module_version": "1.2.0",
      "_model_name": "LayoutModel",
      "_view_count": null,
      "_view_module": "@jupyter-widgets/base",
      "_view_module_version": "1.2.0",
      "_view_name": "LayoutView",
      "align_content": null,
      "align_items": null,
      "align_self": null,
      "border": null,
      "bottom": null,
      "display": null,
      "flex": null,
      "flex_flow": null,
      "grid_area": null,
      "grid_auto_columns": null,
      "grid_auto_flow": null,
      "grid_auto_rows": null,
      "grid_column": null,
      "grid_gap": null,
      "grid_row": null,
      "grid_template_areas": null,
      "grid_template_columns": null,
      "grid_template_rows": null,
      "height": null,
      "justify_content": null,
      "justify_items": null,
      "left": null,
      "margin": null,
      "max_height": null,
      "max_width": null,
      "min_height": null,
      "min_width": null,
      "object_fit": null,
      "object_position": null,
      "order": null,
      "overflow": null,
      "overflow_x": null,
      "overflow_y": null,
      "padding": null,
      "right": null,
      "top": null,
      "visibility": null,
      "width": null
     }
    },
    "c331e06a5a64479fb8e18f060dea175f": {
     "model_module": "@jupyter-widgets/controls",
     "model_module_version": "1.5.0",
     "model_name": "FloatProgressModel",
     "state": {
      "_dom_classes": [],
      "_model_module": "@jupyter-widgets/controls",
      "_model_module_version": "1.5.0",
      "_model_name": "FloatProgressModel",
      "_view_count": null,
      "_view_module": "@jupyter-widgets/controls",
      "_view_module_version": "1.5.0",
      "_view_name": "ProgressView",
      "bar_style": "success",
      "description": "",
      "description_tooltip": null,
      "layout": "IPY_MODEL_9b06a2322ab342e0895c29f45f3a4b2c",
      "max": 396,
      "min": 0,
      "orientation": "horizontal",
      "style": "IPY_MODEL_9f7c460afcc848a090b3b73833315e13",
      "value": 396
     }
    },
    "c364ba32840e4d789c72defef28be473": {
     "model_module": "@jupyter-widgets/base",
     "model_module_version": "1.2.0",
     "model_name": "LayoutModel",
     "state": {
      "_model_module": "@jupyter-widgets/base",
      "_model_module_version": "1.2.0",
      "_model_name": "LayoutModel",
      "_view_count": null,
      "_view_module": "@jupyter-widgets/base",
      "_view_module_version": "1.2.0",
      "_view_name": "LayoutView",
      "align_content": null,
      "align_items": null,
      "align_self": null,
      "border": null,
      "bottom": null,
      "display": null,
      "flex": null,
      "flex_flow": null,
      "grid_area": null,
      "grid_auto_columns": null,
      "grid_auto_flow": null,
      "grid_auto_rows": null,
      "grid_column": null,
      "grid_gap": null,
      "grid_row": null,
      "grid_template_areas": null,
      "grid_template_columns": null,
      "grid_template_rows": null,
      "height": null,
      "justify_content": null,
      "justify_items": null,
      "left": null,
      "margin": null,
      "max_height": null,
      "max_width": null,
      "min_height": null,
      "min_width": null,
      "object_fit": null,
      "object_position": null,
      "order": null,
      "overflow": null,
      "overflow_x": null,
      "overflow_y": null,
      "padding": null,
      "right": null,
      "top": null,
      "visibility": null,
      "width": null
     }
    },
    "c9a20ffdb3c8418db5caf5f05a931a77": {
     "model_module": "@jupyter-widgets/base",
     "model_module_version": "1.2.0",
     "model_name": "LayoutModel",
     "state": {
      "_model_module": "@jupyter-widgets/base",
      "_model_module_version": "1.2.0",
      "_model_name": "LayoutModel",
      "_view_count": null,
      "_view_module": "@jupyter-widgets/base",
      "_view_module_version": "1.2.0",
      "_view_name": "LayoutView",
      "align_content": null,
      "align_items": null,
      "align_self": null,
      "border": null,
      "bottom": null,
      "display": null,
      "flex": null,
      "flex_flow": null,
      "grid_area": null,
      "grid_auto_columns": null,
      "grid_auto_flow": null,
      "grid_auto_rows": null,
      "grid_column": null,
      "grid_gap": null,
      "grid_row": null,
      "grid_template_areas": null,
      "grid_template_columns": null,
      "grid_template_rows": null,
      "height": null,
      "justify_content": null,
      "justify_items": null,
      "left": null,
      "margin": null,
      "max_height": null,
      "max_width": null,
      "min_height": null,
      "min_width": null,
      "object_fit": null,
      "object_position": null,
      "order": null,
      "overflow": null,
      "overflow_x": null,
      "overflow_y": null,
      "padding": null,
      "right": null,
      "top": null,
      "visibility": null,
      "width": null
     }
    },
    "d36d7aef812e46bb9112685c9d9fdf61": {
     "model_module": "@jupyter-widgets/controls",
     "model_module_version": "1.5.0",
     "model_name": "DescriptionStyleModel",
     "state": {
      "_model_module": "@jupyter-widgets/controls",
      "_model_module_version": "1.5.0",
      "_model_name": "DescriptionStyleModel",
      "_view_count": null,
      "_view_module": "@jupyter-widgets/base",
      "_view_module_version": "1.2.0",
      "_view_name": "StyleView",
      "description_width": ""
     }
    },
    "d68c5fa0662b4c64b6d4301ea0dab75f": {
     "model_module": "@jupyter-widgets/base",
     "model_module_version": "1.2.0",
     "model_name": "LayoutModel",
     "state": {
      "_model_module": "@jupyter-widgets/base",
      "_model_module_version": "1.2.0",
      "_model_name": "LayoutModel",
      "_view_count": null,
      "_view_module": "@jupyter-widgets/base",
      "_view_module_version": "1.2.0",
      "_view_name": "LayoutView",
      "align_content": null,
      "align_items": null,
      "align_self": null,
      "border": null,
      "bottom": null,
      "display": null,
      "flex": null,
      "flex_flow": null,
      "grid_area": null,
      "grid_auto_columns": null,
      "grid_auto_flow": null,
      "grid_auto_rows": null,
      "grid_column": null,
      "grid_gap": null,
      "grid_row": null,
      "grid_template_areas": null,
      "grid_template_columns": null,
      "grid_template_rows": null,
      "height": null,
      "justify_content": null,
      "justify_items": null,
      "left": null,
      "margin": null,
      "max_height": null,
      "max_width": null,
      "min_height": null,
      "min_width": null,
      "object_fit": null,
      "object_position": null,
      "order": null,
      "overflow": null,
      "overflow_x": null,
      "overflow_y": null,
      "padding": null,
      "right": null,
      "top": null,
      "visibility": null,
      "width": null
     }
    },
    "d855a1f47989453b80f30a3dcf88bef0": {
     "model_module": "@jupyter-widgets/controls",
     "model_module_version": "1.5.0",
     "model_name": "DescriptionStyleModel",
     "state": {
      "_model_module": "@jupyter-widgets/controls",
      "_model_module_version": "1.5.0",
      "_model_name": "DescriptionStyleModel",
      "_view_count": null,
      "_view_module": "@jupyter-widgets/base",
      "_view_module_version": "1.2.0",
      "_view_name": "StyleView",
      "description_width": ""
     }
    },
    "dc01a32937df420e957a76e1d5a6bfe1": {
     "model_module": "@jupyter-widgets/controls",
     "model_module_version": "1.5.0",
     "model_name": "FloatProgressModel",
     "state": {
      "_dom_classes": [],
      "_model_module": "@jupyter-widgets/controls",
      "_model_module_version": "1.5.0",
      "_model_name": "FloatProgressModel",
      "_view_count": null,
      "_view_module": "@jupyter-widgets/controls",
      "_view_module_version": "1.5.0",
      "_view_name": "ProgressView",
      "bar_style": "success",
      "description": "",
      "description_tooltip": null,
      "layout": "IPY_MODEL_b440b68d1ff540e0bfcc5c5835e00c0b",
      "max": 99,
      "min": 0,
      "orientation": "horizontal",
      "style": "IPY_MODEL_1b26d849d22343b8b1a4bb30b76b5b68",
      "value": 99
     }
    },
    "e0c0a6c1d3ec4125a429aed66a065e3c": {
     "model_module": "@jupyter-widgets/base",
     "model_module_version": "1.2.0",
     "model_name": "LayoutModel",
     "state": {
      "_model_module": "@jupyter-widgets/base",
      "_model_module_version": "1.2.0",
      "_model_name": "LayoutModel",
      "_view_count": null,
      "_view_module": "@jupyter-widgets/base",
      "_view_module_version": "1.2.0",
      "_view_name": "LayoutView",
      "align_content": null,
      "align_items": null,
      "align_self": null,
      "border": null,
      "bottom": null,
      "display": null,
      "flex": null,
      "flex_flow": null,
      "grid_area": null,
      "grid_auto_columns": null,
      "grid_auto_flow": null,
      "grid_auto_rows": null,
      "grid_column": null,
      "grid_gap": null,
      "grid_row": null,
      "grid_template_areas": null,
      "grid_template_columns": null,
      "grid_template_rows": null,
      "height": null,
      "justify_content": null,
      "justify_items": null,
      "left": null,
      "margin": null,
      "max_height": null,
      "max_width": null,
      "min_height": null,
      "min_width": null,
      "object_fit": null,
      "object_position": null,
      "order": null,
      "overflow": null,
      "overflow_x": null,
      "overflow_y": null,
      "padding": null,
      "right": null,
      "top": null,
      "visibility": null,
      "width": null
     }
    },
    "e231a30e3fb54f6e9137dfa1410904ed": {
     "model_module": "@jupyter-widgets/controls",
     "model_module_version": "1.5.0",
     "model_name": "HBoxModel",
     "state": {
      "_dom_classes": [],
      "_model_module": "@jupyter-widgets/controls",
      "_model_module_version": "1.5.0",
      "_model_name": "HBoxModel",
      "_view_count": null,
      "_view_module": "@jupyter-widgets/controls",
      "_view_module_version": "1.5.0",
      "_view_name": "HBoxView",
      "box_style": "",
      "children": [
       "IPY_MODEL_2dfff9fefd2a4935a4be53a26a53e7a1",
       "IPY_MODEL_c331e06a5a64479fb8e18f060dea175f",
       "IPY_MODEL_a618044a82f04915af4cd583c93c3922"
      ],
      "layout": "IPY_MODEL_00905df897f248b9810a431e267d6142"
     }
    },
    "e6cbb2aac0104af6b81bc2e456b72455": {
     "model_module": "@jupyter-widgets/controls",
     "model_module_version": "1.5.0",
     "model_name": "ProgressStyleModel",
     "state": {
      "_model_module": "@jupyter-widgets/controls",
      "_model_module_version": "1.5.0",
      "_model_name": "ProgressStyleModel",
      "_view_count": null,
      "_view_module": "@jupyter-widgets/base",
      "_view_module_version": "1.2.0",
      "_view_name": "StyleView",
      "bar_color": null,
      "description_width": ""
     }
    },
    "e754dfd654c34801be8ca409e168bfa7": {
     "model_module": "@jupyter-widgets/controls",
     "model_module_version": "1.5.0",
     "model_name": "HBoxModel",
     "state": {
      "_dom_classes": [],
      "_model_module": "@jupyter-widgets/controls",
      "_model_module_version": "1.5.0",
      "_model_name": "HBoxModel",
      "_view_count": null,
      "_view_module": "@jupyter-widgets/controls",
      "_view_module_version": "1.5.0",
      "_view_name": "HBoxView",
      "box_style": "",
      "children": [
       "IPY_MODEL_ffaa23bda79548b8bec864626ab64e9c",
       "IPY_MODEL_880e3091872c4866929938b4a25be1eb",
       "IPY_MODEL_2cd3d46b59c84532b6cc4e0496dee7d2"
      ],
      "layout": "IPY_MODEL_be60c76121114f39ae55a47b92bd4ba7"
     }
    },
    "ef4e100d10e94457bf8d7c8432165e62": {
     "model_module": "@jupyter-widgets/base",
     "model_module_version": "1.2.0",
     "model_name": "LayoutModel",
     "state": {
      "_model_module": "@jupyter-widgets/base",
      "_model_module_version": "1.2.0",
      "_model_name": "LayoutModel",
      "_view_count": null,
      "_view_module": "@jupyter-widgets/base",
      "_view_module_version": "1.2.0",
      "_view_name": "LayoutView",
      "align_content": null,
      "align_items": null,
      "align_self": null,
      "border": null,
      "bottom": null,
      "display": null,
      "flex": null,
      "flex_flow": null,
      "grid_area": null,
      "grid_auto_columns": null,
      "grid_auto_flow": null,
      "grid_auto_rows": null,
      "grid_column": null,
      "grid_gap": null,
      "grid_row": null,
      "grid_template_areas": null,
      "grid_template_columns": null,
      "grid_template_rows": null,
      "height": null,
      "justify_content": null,
      "justify_items": null,
      "left": null,
      "margin": null,
      "max_height": null,
      "max_width": null,
      "min_height": null,
      "min_width": null,
      "object_fit": null,
      "object_position": null,
      "order": null,
      "overflow": null,
      "overflow_x": null,
      "overflow_y": null,
      "padding": null,
      "right": null,
      "top": null,
      "visibility": null,
      "width": null
     }
    },
    "ffaa23bda79548b8bec864626ab64e9c": {
     "model_module": "@jupyter-widgets/controls",
     "model_module_version": "1.5.0",
     "model_name": "HTMLModel",
     "state": {
      "_dom_classes": [],
      "_model_module": "@jupyter-widgets/controls",
      "_model_module_version": "1.5.0",
      "_model_name": "HTMLModel",
      "_view_count": null,
      "_view_module": "@jupyter-widgets/controls",
      "_view_module_version": "1.5.0",
      "_view_name": "HTMLView",
      "description": "",
      "description_tooltip": null,
      "layout": "IPY_MODEL_c9a20ffdb3c8418db5caf5f05a931a77",
      "placeholder": "​",
      "style": "IPY_MODEL_94992f40b5c7416e970697ad62d69eed",
      "value": "config.json: 100%"
     }
    }
   }
  }
 },
 "nbformat": 4,
 "nbformat_minor": 4
}
